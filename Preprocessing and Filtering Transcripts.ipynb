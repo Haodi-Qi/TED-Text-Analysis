{
 "cells": [
  {
   "cell_type": "code",
   "execution_count": 1,
   "metadata": {
    "ExecuteTime": {
     "end_time": "2020-07-23T06:11:54.142084Z",
     "start_time": "2020-07-23T06:11:50.168498Z"
    }
   },
   "outputs": [],
   "source": [
    "import numpy as np\n",
    "import pandas as pd\n",
    "import matplotlib.pyplot as plt\n",
    "%matplotlib inline\n",
    "\n",
    "from functions.preprocessing import preprocessing\n",
    "\n",
    "import ast, pickle\n",
    "from tqdm.auto import tqdm \n",
    "\n",
    "import warnings\n",
    "warnings.filterwarnings('ignore')"
   ]
  },
  {
   "cell_type": "code",
   "execution_count": 2,
   "metadata": {
    "ExecuteTime": {
     "end_time": "2020-07-23T06:11:57.206207Z",
     "start_time": "2020-07-23T06:11:56.770219Z"
    }
   },
   "outputs": [
    {
     "data": {
      "text/plain": [
       "(2467, 2)"
      ]
     },
     "execution_count": 2,
     "metadata": {},
     "output_type": "execute_result"
    }
   ],
   "source": [
    "transcripts = pd.read_csv('data/raw/transcripts.csv')\n",
    "main = pd.read_csv('data/raw/ted_main.csv',usecols=['title','url','tags'])\n",
    "transcripts.shape"
   ]
  },
  {
   "cell_type": "markdown",
   "metadata": {},
   "source": [
    "## Filtering of transcripts###\n",
    "\n",
    "><b>Rationale</b><br>\n",
    "   &emsp;Firstly, we discovered that the numbers of records in the ted_main.csv and transcripts.csv are different, indicating that there are talks without transcripts. Upon viewing some of those talks, we realized that TED Talks actually include non-speech talks, including musical performances and live events.<br>\n",
    "    &emsp;Therefore, we purposely selected a few talks with performance related tags, such as \"performance art\" and \"music performance\", and looked through the transcript. We realized that, for some singing-performance talks, the transcripts are actually the lyrics of the songs; for others, the transcripts may be a short self-introduction with some comments by the performer. Moreover, the transcripts tends to involve special symbols, such as ♫, ♪. <br>\n",
    "    &emsp;As a result, we used the tag and the length of the transcript as filters. After some trial and error with manual validation, the filters are: <ul>\n",
    "    <li> Tags to exclude: \"performance art\" and \"live performance\" </li>\n",
    "    <li> Min Transcript Lengths: 350 </li></ul>\n",
    "    &emsp;The reason why we did not exclude talks by just those symbols (i.e. remove all talks with those symbols) is that we found out that some talks may have background music as part of the talk. Those symbols will thus appear in the transcripts, but the talks are not performances. <br>\n",
    "    &emsp;32 talks are removed in the end, with 2435 talks remaining."
   ]
  },
  {
   "cell_type": "code",
   "execution_count": 4,
   "metadata": {
    "ExecuteTime": {
     "end_time": "2020-07-23T06:12:09.816741Z",
     "start_time": "2020-07-23T06:12:09.631744Z"
    }
   },
   "outputs": [],
   "source": [
    "merged = transcripts.merge(main,on='url')\n",
    "merged['tags'] = merged.tags.map(ast.literal_eval)\n",
    "merged['to_remove']=merged.apply(lambda x :\n",
    "    (len(x['transcript'])<350) |  ('live performance' in x['tags']) | ('performance art' in x['tags']) , axis=1)\n",
    "merged = merged[merged.to_remove == False]"
   ]
  },
  {
   "cell_type": "code",
   "execution_count": 5,
   "metadata": {
    "ExecuteTime": {
     "end_time": "2020-07-23T06:12:11.237343Z",
     "start_time": "2020-07-23T06:12:11.226344Z"
    },
    "scrolled": true
   },
   "outputs": [
    {
     "data": {
      "text/plain": [
       "(2435, 5)"
      ]
     },
     "execution_count": 5,
     "metadata": {},
     "output_type": "execute_result"
    }
   ],
   "source": [
    "merged.shape"
   ]
  },
  {
   "cell_type": "markdown",
   "metadata": {
    "ExecuteTime": {
     "end_time": "2020-03-17T08:23:00.096386Z",
     "start_time": "2020-03-17T08:22:59.960866Z"
    }
   },
   "source": [
    "## Preprocessing##"
   ]
  },
  {
   "cell_type": "code",
   "execution_count": 9,
   "metadata": {
    "ExecuteTime": {
     "end_time": "2020-07-23T06:23:44.838290Z",
     "start_time": "2020-07-23T06:23:44.691201Z"
    }
   },
   "outputs": [],
   "source": [
    "# convert the chinese inverted commas to the English version\n",
    "transcripts.transcript = transcripts.transcript.str.replace('’',\"'\")\n",
    "merged.transcript = transcripts.transcript"
   ]
  },
  {
   "cell_type": "code",
   "execution_count": 32,
   "metadata": {
    "ExecuteTime": {
     "end_time": "2020-07-23T05:03:30.818115Z",
     "start_time": "2020-07-23T04:46:29.960153Z"
    }
   },
   "outputs": [
    {
     "data": {
      "application/vnd.jupyter.widget-view+json": {
       "model_id": "f0cbdde2b46b4a2485872b079b39ffcf",
       "version_major": 2,
       "version_minor": 0
      },
      "text/plain": [
       "HBox(children=(IntProgress(value=0, max=2435), HTML(value='')))"
      ]
     },
     "metadata": {},
     "output_type": "display_data"
    }
   ],
   "source": [
    "tqdm.pandas()\n",
    "transcript_tokens = merged.transcript.progress_apply(preprocessing)"
   ]
  },
  {
   "cell_type": "code",
   "execution_count": 33,
   "metadata": {
    "ExecuteTime": {
     "end_time": "2020-07-23T05:03:48.034371Z",
     "start_time": "2020-07-23T05:03:30.945632Z"
    }
   },
   "outputs": [
    {
     "data": {
      "application/vnd.jupyter.widget-view+json": {
       "model_id": "6847b6238b6b4f8ebc7c5ff43fa48ace",
       "version_major": 2,
       "version_minor": 0
      },
      "text/plain": [
       "HBox(children=(IntProgress(value=0, max=2435), HTML(value='')))"
      ]
     },
     "metadata": {},
     "output_type": "display_data"
    }
   ],
   "source": [
    "title_tokens = merged.title.progress_apply(preprocessing)"
   ]
  },
  {
   "cell_type": "markdown",
   "metadata": {},
   "source": [
    "## Export to pickle"
   ]
  },
  {
   "cell_type": "code",
   "execution_count": 35,
   "metadata": {
    "ExecuteTime": {
     "end_time": "2020-07-23T05:49:06.381147Z",
     "start_time": "2020-07-23T05:49:05.664063Z"
    }
   },
   "outputs": [],
   "source": [
    "pickle.dump(transcript_tokens, open('data/pickle/transcript_tokens.p','wb'))"
   ]
  },
  {
   "cell_type": "code",
   "execution_count": 34,
   "metadata": {
    "ExecuteTime": {
     "end_time": "2020-07-23T05:48:48.486088Z",
     "start_time": "2020-07-23T05:48:48.473090Z"
    }
   },
   "outputs": [],
   "source": [
    "pickle.dump(title_tokens, open('data/pickle/title_tokens.p','wb'))"
   ]
  },
  {
   "cell_type": "code",
   "execution_count": 10,
   "metadata": {
    "ExecuteTime": {
     "end_time": "2020-07-23T06:23:51.016909Z",
     "start_time": "2020-07-23T06:23:50.892727Z"
    }
   },
   "outputs": [],
   "source": [
    "pickle.dump(merged.iloc[:,:-1], open('data/pickle/filtered_talks.p','wb'))"
   ]
  }
 ],
 "metadata": {
  "kernelspec": {
   "display_name": "Python 3",
   "language": "python",
   "name": "python3"
  },
  "language_info": {
   "codemirror_mode": {
    "name": "ipython",
    "version": 3
   },
   "file_extension": ".py",
   "mimetype": "text/x-python",
   "name": "python",
   "nbconvert_exporter": "python",
   "pygments_lexer": "ipython3",
   "version": "3.7.3"
  },
  "toc": {
   "base_numbering": 1,
   "nav_menu": {},
   "number_sections": true,
   "sideBar": true,
   "skip_h1_title": false,
   "title_cell": "Table of Contents",
   "title_sidebar": "Contents",
   "toc_cell": false,
   "toc_position": {},
   "toc_section_display": true,
   "toc_window_display": false
  },
  "varInspector": {
   "cols": {
    "lenName": 16,
    "lenType": 16,
    "lenVar": 40
   },
   "kernels_config": {
    "python": {
     "delete_cmd_postfix": "",
     "delete_cmd_prefix": "del ",
     "library": "var_list.py",
     "varRefreshCmd": "print(var_dic_list())"
    },
    "r": {
     "delete_cmd_postfix": ") ",
     "delete_cmd_prefix": "rm(",
     "library": "var_list.r",
     "varRefreshCmd": "cat(var_dic_list()) "
    }
   },
   "types_to_exclude": [
    "module",
    "function",
    "builtin_function_or_method",
    "instance",
    "_Feature"
   ],
   "window_display": false
  }
 },
 "nbformat": 4,
 "nbformat_minor": 2
}
