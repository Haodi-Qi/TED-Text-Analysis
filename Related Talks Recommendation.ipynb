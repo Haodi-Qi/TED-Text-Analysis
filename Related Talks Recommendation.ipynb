{
 "cells": [
  {
   "cell_type": "markdown",
   "metadata": {},
   "source": [
    "> This is an additional task we carried out apart from Tag Generation (Topic Modelling + Tag Extraction) and Summarization. We used the TF-IDF vectorizer with Cosine similarity to find the top 3 similar talks for recommendation."
   ]
  },
  {
   "cell_type": "code",
   "execution_count": 1,
   "metadata": {
    "ExecuteTime": {
     "end_time": "2020-07-28T18:05:03.336526Z",
     "start_time": "2020-07-28T18:05:01.996006Z"
    }
   },
   "outputs": [],
   "source": [
    "import numpy as np\n",
    "import pandas as pd\n",
    "import matplotlib.pyplot as plt\n",
    "%matplotlib inline\n",
    "import pickle"
   ]
  },
  {
   "cell_type": "code",
   "execution_count": 2,
   "metadata": {
    "ExecuteTime": {
     "end_time": "2020-07-28T18:05:07.090525Z",
     "start_time": "2020-07-28T18:05:03.345531Z"
    }
   },
   "outputs": [],
   "source": [
    "from functions.tfidf_vectorizer_functions import *\n",
    "from functions.preprocessing import preprocessing\n",
    "\n",
    "def cosine_sim(text1, text2):\n",
    "    tfidf = vectorizer.transform([text1, text2])\n",
    "    return ((tfidf * tfidf.T).A)[0,1]\n",
    "\n",
    "vectorizer = pickle.load(open('model/tfidf_vectorizer.p','rb'))"
   ]
  },
  {
   "cell_type": "code",
   "execution_count": 3,
   "metadata": {
    "ExecuteTime": {
     "end_time": "2020-07-28T18:05:07.127528Z",
     "start_time": "2020-07-28T18:05:07.101530Z"
    }
   },
   "outputs": [],
   "source": [
    "def generate_recommendation(input_text):\n",
    "    scores = []\n",
    "    input_text = \"{@}\".join(preprocessing(input_text))\n",
    "    for index,row in df.iterrows():\n",
    "        reference_talk = \"{@}\".join(row['tokens'])\n",
    "        score  = cosine_sim(reference_talk, input_text)\n",
    "        scores.append(score)\n",
    "    scores = np.array(scores)\n",
    "    indices = np.argsort(scores)[::-1]\n",
    "#     print(indices)\n",
    "    recommended_titles = \"\\n\".join([df.iloc[indices[x],0] for x in range(3)])\n",
    "\n",
    "    return recommended_titles"
   ]
  },
  {
   "cell_type": "code",
   "execution_count": 4,
   "metadata": {
    "ExecuteTime": {
     "end_time": "2020-07-28T18:05:07.735527Z",
     "start_time": "2020-07-28T18:05:07.142528Z"
    }
   },
   "outputs": [],
   "source": [
    "df = pickle.load(open('data/pickle/filtered_talks.p','rb'))[['title']]\n",
    "df['tokens'] = pickle.load(open('data/pickle/transcript_tokens.p','rb'))"
   ]
  },
  {
   "cell_type": "code",
   "execution_count": 9,
   "metadata": {
    "ExecuteTime": {
     "end_time": "2020-07-28T18:11:20.709445Z",
     "start_time": "2020-07-28T18:09:52.927875Z"
    }
   },
   "outputs": [
    {
     "name": "stdout",
     "output_type": "stream",
     "text": [
      "Title: The disarming case to act right now on climate change\n",
      "\n",
      "Recommended Talks:\n",
      "Climate change is happening. Here's how we adapt\n",
      "Why climate change is a threat to human rights\n",
      "Why I must speak out about climate change\n"
     ]
    }
   ],
   "source": [
    "with open('data/raw/test_transcript.txt') as f:\n",
    "    title = f.readline()\n",
    "    transcript = f.readlines()[0]\n",
    "    print(\"Title: {}\".format(title))\n",
    "    print(\"Recommended Talks:\")\n",
    "    print(generate_recommendation(transcript))"
   ]
  }
 ],
 "metadata": {
  "kernelspec": {
   "display_name": "Python 3",
   "language": "python",
   "name": "python3"
  },
  "language_info": {
   "codemirror_mode": {
    "name": "ipython",
    "version": 3
   },
   "file_extension": ".py",
   "mimetype": "text/x-python",
   "name": "python",
   "nbconvert_exporter": "python",
   "pygments_lexer": "ipython3",
   "version": "3.7.3"
  },
  "toc": {
   "base_numbering": 1,
   "nav_menu": {},
   "number_sections": true,
   "sideBar": true,
   "skip_h1_title": false,
   "title_cell": "Table of Contents",
   "title_sidebar": "Contents",
   "toc_cell": false,
   "toc_position": {},
   "toc_section_display": true,
   "toc_window_display": false
  },
  "varInspector": {
   "cols": {
    "lenName": 16,
    "lenType": 16,
    "lenVar": 40
   },
   "kernels_config": {
    "python": {
     "delete_cmd_postfix": "",
     "delete_cmd_prefix": "del ",
     "library": "var_list.py",
     "varRefreshCmd": "print(var_dic_list())"
    },
    "r": {
     "delete_cmd_postfix": ") ",
     "delete_cmd_prefix": "rm(",
     "library": "var_list.r",
     "varRefreshCmd": "cat(var_dic_list()) "
    }
   },
   "types_to_exclude": [
    "module",
    "function",
    "builtin_function_or_method",
    "instance",
    "_Feature"
   ],
   "window_display": false
  }
 },
 "nbformat": 4,
 "nbformat_minor": 2
}
