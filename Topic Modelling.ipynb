{
 "cells": [
  {
   "cell_type": "markdown",
   "metadata": {},
   "source": [
    "> In this notebook, we explored different ways to carry out the Topic Modelling to generate topics with topic keywords. The following modules were explored:<ul>\n",
    "    <li>Scikit-Learn LDA (<a href='#sklearn-lda'>Click to view</a>)</li>\n",
    "    <li>Scikit-Learn NMF (<a href='#sklearn-nmf'>Click to view</a>)</li>\n",
    "    <li>Gensim LDA (<a href='#gensim-lda'>Click to view</a>)</li>\n",
    "    <li>LDA Mallet (<a href='#lda-mallet'>Click to view</a>)</li></ul>\n",
    "  We chose LDA Mallet in the end, for its built-in optimization of parameters, faster computation and better performance with respect to coherence score. <br>\n",
    "  We then tuned the hyperparameter, the topic numbers, of 30."
   ]
  },
  {
   "cell_type": "code",
   "execution_count": 1,
   "metadata": {
    "ExecuteTime": {
     "end_time": "2020-07-29T06:09:40.559663Z",
     "start_time": "2020-07-29T06:09:39.838501Z"
    }
   },
   "outputs": [],
   "source": [
    "import numpy as np\n",
    "import pandas as pd\n",
    "import matplotlib.pyplot as plt\n",
    "%matplotlib inline\n",
    "import pickle"
   ]
  },
  {
   "cell_type": "code",
   "execution_count": 2,
   "metadata": {
    "ExecuteTime": {
     "end_time": "2020-07-29T06:09:41.904227Z",
     "start_time": "2020-07-29T06:09:41.599100Z"
    }
   },
   "outputs": [],
   "source": [
    "transcript_tokens = pickle.load(open('data/pickle/transcript_tokens.p','rb'))"
   ]
  },
  {
   "cell_type": "code",
   "execution_count": 3,
   "metadata": {
    "ExecuteTime": {
     "end_time": "2020-07-24T02:28:43.956132Z",
     "start_time": "2020-07-24T02:28:43.948126Z"
    }
   },
   "outputs": [],
   "source": [
    "# default parameter for baseline comparison\n",
    "n_topics = 50\n",
    "top_n_words = 10"
   ]
  },
  {
   "cell_type": "markdown",
   "metadata": {},
   "source": [
    "<a id='sklearn-lda'></a>\n",
    "<h2>Scikit-Learn LDA with tf-idf vectorizer</h2>\n",
    "\n",
    "\n",
    "> From the results shown below, we can see that the topics generated are not very distinctive. It is hard to identify the concept/topic from the list of topic words. Therefore, we discarded this method. "
   ]
  },
  {
   "cell_type": "code",
   "execution_count": 4,
   "metadata": {
    "ExecuteTime": {
     "end_time": "2020-07-24T02:28:44.689140Z",
     "start_time": "2020-07-24T02:28:43.967128Z"
    }
   },
   "outputs": [],
   "source": [
    "from sklearn.feature_extraction.text import TfidfVectorizer\n",
    "from sklearn.decomposition import LatentDirichletAllocation\n",
    "from functions.tfidf_vectorizer_functions import * # the string seperator is fixed with \"{@}\""
   ]
  },
  {
   "cell_type": "code",
   "execution_count": 5,
   "metadata": {
    "ExecuteTime": {
     "end_time": "2020-07-24T02:28:47.240162Z",
     "start_time": "2020-07-24T02:28:44.701130Z"
    }
   },
   "outputs": [],
   "source": [
    "# Load the tf-idf vectorizer from the TF-IDF Metric Computation notebook\n",
    "vectorizer = pickle.load(open('model/tfidf_vectorizer.p','rb'))"
   ]
  },
  {
   "cell_type": "code",
   "execution_count": 6,
   "metadata": {
    "ExecuteTime": {
     "end_time": "2020-07-24T02:28:56.742495Z",
     "start_time": "2020-07-24T02:28:50.036584Z"
    }
   },
   "outputs": [],
   "source": [
    "string_seperator = \"{@}\"\n",
    "\n",
    "transcript_tokens_str = [string_seperator.join(tokens) for tokens in transcript_tokens]\n",
    "\n",
    "vectors = vectorizer.transform(transcript_tokens_str)"
   ]
  },
  {
   "cell_type": "code",
   "execution_count": 12,
   "metadata": {
    "ExecuteTime": {
     "end_time": "2020-07-24T05:14:03.056256Z",
     "start_time": "2020-07-24T04:30:31.850224Z"
    }
   },
   "outputs": [],
   "source": [
    "lda = LatentDirichletAllocation(n_components=n_topics,random_state=2020)\n",
    "\n",
    "topics = lda.fit_transform(vectors)\n",
    "\n",
    "t_words, word_strengths = {}, {}\n",
    "for t_id, t in enumerate(lda.components_):\n",
    "    t_words[t_id] = [vectorizer.get_feature_names()[i] for i in t.argsort()[:-top_n_words - 1:-1]]\n",
    "    word_strengths[t_id] = t[t.argsort()[:-top_n_words - 1:-1]]\n",
    "    \n",
    "sklearn_lda_df = pd.DataFrame(t_words).transpose()\n",
    "sklearn_lda_df.columns = [\"keyword {}\".format(str(i)) for i in sklearn_lda_df.columns]"
   ]
  },
  {
   "cell_type": "code",
   "execution_count": 21,
   "metadata": {
    "ExecuteTime": {
     "end_time": "2020-07-24T09:22:38.105666Z",
     "start_time": "2020-07-24T09:22:38.073666Z"
    },
    "scrolled": true
   },
   "outputs": [
    {
     "data": {
      "text/html": [
       "<div>\n",
       "<style scoped>\n",
       "    .dataframe tbody tr th:only-of-type {\n",
       "        vertical-align: middle;\n",
       "    }\n",
       "\n",
       "    .dataframe tbody tr th {\n",
       "        vertical-align: top;\n",
       "    }\n",
       "\n",
       "    .dataframe thead th {\n",
       "        text-align: right;\n",
       "    }\n",
       "</style>\n",
       "<table border=\"1\" class=\"dataframe\">\n",
       "  <thead>\n",
       "    <tr style=\"text-align: right;\">\n",
       "      <th></th>\n",
       "      <th>keyword 0</th>\n",
       "      <th>keyword 1</th>\n",
       "      <th>keyword 2</th>\n",
       "      <th>keyword 3</th>\n",
       "      <th>keyword 4</th>\n",
       "      <th>keyword 5</th>\n",
       "      <th>keyword 6</th>\n",
       "      <th>keyword 7</th>\n",
       "      <th>keyword 8</th>\n",
       "      <th>keyword 9</th>\n",
       "    </tr>\n",
       "  </thead>\n",
       "  <tbody>\n",
       "    <tr>\n",
       "      <th>0</th>\n",
       "      <td>people</td>\n",
       "      <td>like</td>\n",
       "      <td>go</td>\n",
       "      <td>think</td>\n",
       "      <td>know</td>\n",
       "      <td>thing</td>\n",
       "      <td>time</td>\n",
       "      <td>look</td>\n",
       "      <td>want</td>\n",
       "      <td>say</td>\n",
       "    </tr>\n",
       "    <tr>\n",
       "      <th>1</th>\n",
       "      <td>hard choice</td>\n",
       "      <td>catadore</td>\n",
       "      <td>jihad</td>\n",
       "      <td>fibonacci</td>\n",
       "      <td>carroça</td>\n",
       "      <td>fibonacci number</td>\n",
       "      <td>squared</td>\n",
       "      <td>suspend animation</td>\n",
       "      <td>Spinosaurus</td>\n",
       "      <td>violin</td>\n",
       "    </tr>\n",
       "    <tr>\n",
       "      <th>2</th>\n",
       "      <td>comet</td>\n",
       "      <td>Kepler</td>\n",
       "      <td>Rezero</td>\n",
       "      <td>Zimbabwe</td>\n",
       "      <td>morning come</td>\n",
       "      <td>multipotentialite</td>\n",
       "      <td>lap</td>\n",
       "      <td>nonviolent struggle</td>\n",
       "      <td>Flint</td>\n",
       "      <td>prime number</td>\n",
       "    </tr>\n",
       "    <tr>\n",
       "      <th>3</th>\n",
       "      <td>jihad</td>\n",
       "      <td>flag</td>\n",
       "      <td>MK</td>\n",
       "      <td>fishery</td>\n",
       "      <td>Gabby</td>\n",
       "      <td>self drive</td>\n",
       "      <td>high sea</td>\n",
       "      <td>strand</td>\n",
       "      <td>self drive car</td>\n",
       "      <td>tk</td>\n",
       "    </tr>\n",
       "    <tr>\n",
       "      <th>4</th>\n",
       "      <td>manuscript</td>\n",
       "      <td>sneaker</td>\n",
       "      <td>vulture</td>\n",
       "      <td>genocide</td>\n",
       "      <td>cmu</td>\n",
       "      <td>Panbanisha</td>\n",
       "      <td>exoplanet</td>\n",
       "      <td>sc</td>\n",
       "      <td>amyloid beta</td>\n",
       "      <td>McGowan</td>\n",
       "    </tr>\n",
       "    <tr>\n",
       "      <th>5</th>\n",
       "      <td>dinosaur</td>\n",
       "      <td>chromosome</td>\n",
       "      <td>dolphin</td>\n",
       "      <td>astronaut</td>\n",
       "      <td>fossil</td>\n",
       "      <td>suicide</td>\n",
       "      <td>greenhouse</td>\n",
       "      <td>methane</td>\n",
       "      <td>rice</td>\n",
       "      <td>devil</td>\n",
       "    </tr>\n",
       "    <tr>\n",
       "      <th>6</th>\n",
       "      <td>mt</td>\n",
       "      <td>Oklahoma City</td>\n",
       "      <td>amino acid</td>\n",
       "      <td>amino</td>\n",
       "      <td>Kanner</td>\n",
       "      <td>Broadmoor</td>\n",
       "      <td>exploitation</td>\n",
       "      <td>rhythm</td>\n",
       "      <td>melody</td>\n",
       "      <td>psychic paper</td>\n",
       "    </tr>\n",
       "    <tr>\n",
       "      <th>7</th>\n",
       "      <td>hum</td>\n",
       "      <td>gk</td>\n",
       "      <td>car seat</td>\n",
       "      <td>ak</td>\n",
       "      <td>puppet</td>\n",
       "      <td>aged</td>\n",
       "      <td>ss</td>\n",
       "      <td>middle aged</td>\n",
       "      <td>whistleblower</td>\n",
       "      <td>virtual reality</td>\n",
       "    </tr>\n",
       "    <tr>\n",
       "      <th>8</th>\n",
       "      <td>mockingbird</td>\n",
       "      <td>Bonica</td>\n",
       "      <td>mustache</td>\n",
       "      <td>bionic</td>\n",
       "      <td>cousin</td>\n",
       "      <td>listening</td>\n",
       "      <td>humanae</td>\n",
       "      <td>leopard seal</td>\n",
       "      <td>fly camera</td>\n",
       "      <td>Harriet</td>\n",
       "    </tr>\n",
       "    <tr>\n",
       "      <th>9</th>\n",
       "      <td>candidate</td>\n",
       "      <td>north</td>\n",
       "      <td>musical</td>\n",
       "      <td>story tell</td>\n",
       "      <td>live life</td>\n",
       "      <td>sphere</td>\n",
       "      <td>beer</td>\n",
       "      <td>diagnosis</td>\n",
       "      <td>regime</td>\n",
       "      <td>breast cancer</td>\n",
       "    </tr>\n",
       "  </tbody>\n",
       "</table>\n",
       "</div>"
      ],
      "text/plain": [
       "     keyword 0      keyword 1   keyword 2   keyword 3     keyword 4  \\\n",
       "0       people           like          go       think          know   \n",
       "1  hard choice       catadore       jihad   fibonacci       carroça   \n",
       "2        comet         Kepler      Rezero    Zimbabwe  morning come   \n",
       "3        jihad           flag          MK     fishery         Gabby   \n",
       "4   manuscript        sneaker     vulture    genocide           cmu   \n",
       "5     dinosaur     chromosome     dolphin   astronaut        fossil   \n",
       "6           mt  Oklahoma City  amino acid       amino        Kanner   \n",
       "7          hum             gk    car seat          ak        puppet   \n",
       "8  mockingbird         Bonica    mustache      bionic        cousin   \n",
       "9    candidate          north     musical  story tell     live life   \n",
       "\n",
       "           keyword 5     keyword 6            keyword 7       keyword 8  \\\n",
       "0              thing          time                 look            want   \n",
       "1   fibonacci number       squared    suspend animation     Spinosaurus   \n",
       "2  multipotentialite           lap  nonviolent struggle           Flint   \n",
       "3         self drive      high sea               strand  self drive car   \n",
       "4         Panbanisha     exoplanet                   sc    amyloid beta   \n",
       "5            suicide    greenhouse              methane            rice   \n",
       "6          Broadmoor  exploitation               rhythm          melody   \n",
       "7               aged            ss          middle aged   whistleblower   \n",
       "8          listening       humanae         leopard seal      fly camera   \n",
       "9             sphere          beer            diagnosis          regime   \n",
       "\n",
       "         keyword 9  \n",
       "0              say  \n",
       "1           violin  \n",
       "2     prime number  \n",
       "3               tk  \n",
       "4          McGowan  \n",
       "5            devil  \n",
       "6    psychic paper  \n",
       "7  virtual reality  \n",
       "8          Harriet  \n",
       "9    breast cancer  "
      ]
     },
     "execution_count": 21,
     "metadata": {},
     "output_type": "execute_result"
    }
   ],
   "source": [
    "sklearn_lda_df.head(10)"
   ]
  },
  {
   "cell_type": "markdown",
   "metadata": {},
   "source": [
    "<a id='sklearn-nmf'></a>\n",
    "## Scikit-Learn NMF with tf-idf vectorizer## \n",
    "\n",
    "> Non-negative Matrix Factorization is a technique for obtaining low rank representation of matrices with non-negative or positive elements. It is commonly used in many applications, such as computer vision and text mining. <br><br>\n",
    "From the results, we can easily identify the topics from the topic words, such as the 2nd row is about Ants, 3rd row is about healthcare, followed by business, astronomy and robotics. <br><br>However, based on our research, there is no way to evaluate the performance of the results as it is a vector-space approach instead a probabilistic approach, the Coherence scoring cannot be applied. As such, there is no way for us to tune the hyperparameter, the number of topics, with a standard systematic way of evaluation. "
   ]
  },
  {
   "cell_type": "code",
   "execution_count": 13,
   "metadata": {
    "ExecuteTime": {
     "end_time": "2020-07-24T05:14:04.625716Z",
     "start_time": "2020-07-24T05:14:04.610199Z"
    }
   },
   "outputs": [],
   "source": [
    "from sklearn.decomposition import NMF"
   ]
  },
  {
   "cell_type": "code",
   "execution_count": 15,
   "metadata": {
    "ExecuteTime": {
     "end_time": "2020-07-24T07:03:37.332747Z",
     "start_time": "2020-07-24T05:44:56.782891Z"
    }
   },
   "outputs": [],
   "source": [
    "nmf = NMF(n_components=n_topics,random_state=0)\n",
    "\n",
    "topics = nmf.fit_transform(vectors)\n",
    "\n",
    "t_words, word_strengths = {}, {}\n",
    "for t_id, t in enumerate(nmf.components_):\n",
    "    t_words[t_id] = [vectorizer.get_feature_names()[i] for i in t.argsort()[:-top_n_words - 1:-1]]\n",
    "    word_strengths[t_id] = t[t.argsort()[:-top_n_words - 1:-1]]\n",
    "sklearn_nmf_df = pd.DataFrame(t_words).transpose()\n",
    "sklearn_nmf_df.columns = [\"keyword {}\".format(str(i)) for i in sklearn_nmf_df.columns]"
   ]
  },
  {
   "cell_type": "code",
   "execution_count": 22,
   "metadata": {
    "ExecuteTime": {
     "end_time": "2020-07-24T09:22:45.424009Z",
     "start_time": "2020-07-24T09:22:45.380493Z"
    }
   },
   "outputs": [
    {
     "data": {
      "text/html": [
       "<div>\n",
       "<style scoped>\n",
       "    .dataframe tbody tr th:only-of-type {\n",
       "        vertical-align: middle;\n",
       "    }\n",
       "\n",
       "    .dataframe tbody tr th {\n",
       "        vertical-align: top;\n",
       "    }\n",
       "\n",
       "    .dataframe thead th {\n",
       "        text-align: right;\n",
       "    }\n",
       "</style>\n",
       "<table border=\"1\" class=\"dataframe\">\n",
       "  <thead>\n",
       "    <tr style=\"text-align: right;\">\n",
       "      <th></th>\n",
       "      <th>keyword 0</th>\n",
       "      <th>keyword 1</th>\n",
       "      <th>keyword 2</th>\n",
       "      <th>keyword 3</th>\n",
       "      <th>keyword 4</th>\n",
       "      <th>keyword 5</th>\n",
       "      <th>keyword 6</th>\n",
       "      <th>keyword 7</th>\n",
       "      <th>keyword 8</th>\n",
       "      <th>keyword 9</th>\n",
       "    </tr>\n",
       "  </thead>\n",
       "  <tbody>\n",
       "    <tr>\n",
       "      <th>0</th>\n",
       "      <td>know</td>\n",
       "      <td>go</td>\n",
       "      <td>say</td>\n",
       "      <td>thing</td>\n",
       "      <td>think</td>\n",
       "      <td>like</td>\n",
       "      <td>get</td>\n",
       "      <td>people</td>\n",
       "      <td>want</td>\n",
       "      <td>come</td>\n",
       "    </tr>\n",
       "    <tr>\n",
       "      <th>1</th>\n",
       "      <td>ant</td>\n",
       "      <td>colony</td>\n",
       "      <td>nest</td>\n",
       "      <td>forager</td>\n",
       "      <td>forage</td>\n",
       "      <td>nest maintenance</td>\n",
       "      <td>worker</td>\n",
       "      <td>interaction</td>\n",
       "      <td>maintenance worker</td>\n",
       "      <td>nest maintenance worker</td>\n",
       "    </tr>\n",
       "    <tr>\n",
       "      <th>2</th>\n",
       "      <td>patient</td>\n",
       "      <td>health</td>\n",
       "      <td>doctor</td>\n",
       "      <td>care</td>\n",
       "      <td>medical</td>\n",
       "      <td>hospital</td>\n",
       "      <td>surgery</td>\n",
       "      <td>health care</td>\n",
       "      <td>physician</td>\n",
       "      <td>healthcare</td>\n",
       "    </tr>\n",
       "    <tr>\n",
       "      <th>3</th>\n",
       "      <td>company</td>\n",
       "      <td>business</td>\n",
       "      <td>money</td>\n",
       "      <td>market</td>\n",
       "      <td>people</td>\n",
       "      <td>work</td>\n",
       "      <td>pay</td>\n",
       "      <td>product</td>\n",
       "      <td>economy</td>\n",
       "      <td>value</td>\n",
       "    </tr>\n",
       "    <tr>\n",
       "      <th>4</th>\n",
       "      <td>planet</td>\n",
       "      <td>star</td>\n",
       "      <td>atmosphere</td>\n",
       "      <td>solar</td>\n",
       "      <td>solar system</td>\n",
       "      <td>telescope</td>\n",
       "      <td>life</td>\n",
       "      <td>orbit</td>\n",
       "      <td>light</td>\n",
       "      <td>sun</td>\n",
       "    </tr>\n",
       "    <tr>\n",
       "      <th>5</th>\n",
       "      <td>robot</td>\n",
       "      <td>robotic</td>\n",
       "      <td>like</td>\n",
       "      <td>robot like</td>\n",
       "      <td>locomotion</td>\n",
       "      <td>build</td>\n",
       "      <td>leg</td>\n",
       "      <td>look</td>\n",
       "      <td>robot robot</td>\n",
       "      <td>romo</td>\n",
       "    </tr>\n",
       "    <tr>\n",
       "      <th>6</th>\n",
       "      <td>brain</td>\n",
       "      <td>neuron</td>\n",
       "      <td>memory</td>\n",
       "      <td>cortex</td>\n",
       "      <td>human brain</td>\n",
       "      <td>disorder</td>\n",
       "      <td>body</td>\n",
       "      <td>consciousness</td>\n",
       "      <td>region</td>\n",
       "      <td>control</td>\n",
       "    </tr>\n",
       "    <tr>\n",
       "      <th>7</th>\n",
       "      <td>universe</td>\n",
       "      <td>galaxy</td>\n",
       "      <td>black hole</td>\n",
       "      <td>particle</td>\n",
       "      <td>hole</td>\n",
       "      <td>black</td>\n",
       "      <td>Higgs</td>\n",
       "      <td>star</td>\n",
       "      <td>theory</td>\n",
       "      <td>space</td>\n",
       "    </tr>\n",
       "    <tr>\n",
       "      <th>8</th>\n",
       "      <td>city</td>\n",
       "      <td>people</td>\n",
       "      <td>street</td>\n",
       "      <td>neighborhood</td>\n",
       "      <td>urban</td>\n",
       "      <td>map</td>\n",
       "      <td>space</td>\n",
       "      <td>mayor</td>\n",
       "      <td>community</td>\n",
       "      <td>build</td>\n",
       "    </tr>\n",
       "    <tr>\n",
       "      <th>9</th>\n",
       "      <td>kid</td>\n",
       "      <td>school</td>\n",
       "      <td>go</td>\n",
       "      <td>parent</td>\n",
       "      <td>teach</td>\n",
       "      <td>say</td>\n",
       "      <td>lunch</td>\n",
       "      <td>child</td>\n",
       "      <td>teacher</td>\n",
       "      <td>know</td>\n",
       "    </tr>\n",
       "  </tbody>\n",
       "</table>\n",
       "</div>"
      ],
      "text/plain": [
       "  keyword 0 keyword 1   keyword 2     keyword 3     keyword 4  \\\n",
       "0      know        go         say         thing         think   \n",
       "1       ant    colony        nest       forager        forage   \n",
       "2   patient    health      doctor          care       medical   \n",
       "3   company  business       money        market        people   \n",
       "4    planet      star  atmosphere         solar  solar system   \n",
       "5     robot   robotic        like    robot like    locomotion   \n",
       "6     brain    neuron      memory        cortex   human brain   \n",
       "7  universe    galaxy  black hole      particle          hole   \n",
       "8      city    people      street  neighborhood         urban   \n",
       "9       kid    school          go        parent         teach   \n",
       "\n",
       "          keyword 5 keyword 6      keyword 7           keyword 8  \\\n",
       "0              like       get         people                want   \n",
       "1  nest maintenance    worker    interaction  maintenance worker   \n",
       "2          hospital   surgery    health care           physician   \n",
       "3              work       pay        product             economy   \n",
       "4         telescope      life          orbit               light   \n",
       "5             build       leg           look         robot robot   \n",
       "6          disorder      body  consciousness              region   \n",
       "7             black     Higgs           star              theory   \n",
       "8               map     space          mayor           community   \n",
       "9               say     lunch          child             teacher   \n",
       "\n",
       "                 keyword 9  \n",
       "0                     come  \n",
       "1  nest maintenance worker  \n",
       "2               healthcare  \n",
       "3                    value  \n",
       "4                      sun  \n",
       "5                     romo  \n",
       "6                  control  \n",
       "7                    space  \n",
       "8                    build  \n",
       "9                     know  "
      ]
     },
     "execution_count": 22,
     "metadata": {},
     "output_type": "execute_result"
    }
   ],
   "source": [
    "sklearn_nmf_df.head(10)"
   ]
  },
  {
   "cell_type": "markdown",
   "metadata": {},
   "source": [
    "<a id='gensim-lda'></a>\n",
    "## Gensim LDA## \n",
    "\n",
    "> The baseline performance of LDA is rather good compared to that of Sklearn LDA but not as good as the Sklearn NMF. <br><br>\n",
    "    We <a href='#gensim-lda-tuning'>tuned the three hyperparameters: alpha, eta and number of topics. </a> <ul>\n",
    "        <li>Alpha: [0.01, 0.31, 0.61, 0.91, \"symmetric\" and \"asymmetric\"]</li><li>Eta: [0.01, 0.31, 0.61, 0.91, \"symmetric\"]</li><li>Number of topics: 20 to 80.</li></ul> Given the limited computation power and time we had, when we tuned the number of topics with all values for alpha and eta, we took a step of 10 first to narrow down the range followed by a step of 1. The tuning codes in the notebook was the one with the step of 10. The tuning results are not shown as there were a lot of trials to find the best sets of parameters.<br><br>\n",
    "    The final set of hyperparameters are: <br> <table>\n",
    "    <tr><th>Parameter</th><th>Value</th></tr>\n",
    "    <tr><td>Topic number</td><td>58</td></tr>\n",
    "    <tr><td>Alpha</td><td>asymmetric</td></tr>\n",
    "    <tr><td>Eta</td><td>symmetric</td></tr>"
   ]
  },
  {
   "cell_type": "code",
   "execution_count": 33,
   "metadata": {
    "ExecuteTime": {
     "end_time": "2020-07-24T11:38:25.981495Z",
     "start_time": "2020-07-24T11:38:25.938468Z"
    }
   },
   "outputs": [
    {
     "data": {
      "text/plain": [
       "array([0.01, 0.31, 0.61, 0.91])"
      ]
     },
     "execution_count": 33,
     "metadata": {},
     "output_type": "execute_result"
    }
   ],
   "source": [
    "np.arange(0.01, 1, 0.3)"
   ]
  },
  {
   "cell_type": "code",
   "execution_count": 3,
   "metadata": {
    "ExecuteTime": {
     "end_time": "2020-07-29T06:09:51.896322Z",
     "start_time": "2020-07-29T06:09:50.745391Z"
    }
   },
   "outputs": [
    {
     "name": "stderr",
     "output_type": "stream",
     "text": [
      "D:\\Software\\Anaconda3\\lib\\site-packages\\gensim\\utils.py:1197: UserWarning: detected Windows; aliasing chunkize to chunkize_serial\n",
      "  warnings.warn(\"detected Windows; aliasing chunkize to chunkize_serial\")\n"
     ]
    }
   ],
   "source": [
    "import gensim\n",
    "import gensim.corpora as corpora\n",
    "from gensim.models import CoherenceModel"
   ]
  },
  {
   "cell_type": "markdown",
   "metadata": {},
   "source": [
    "### Baseline Performance ###"
   ]
  },
  {
   "cell_type": "code",
   "execution_count": 4,
   "metadata": {
    "ExecuteTime": {
     "end_time": "2020-07-29T06:09:58.711809Z",
     "start_time": "2020-07-29T06:09:55.970580Z"
    }
   },
   "outputs": [],
   "source": [
    "# Create Dictionary\n",
    "id2word = corpora.Dictionary(transcript_tokens)\n",
    "\n",
    "# Create Corpus\n",
    "texts = transcript_tokens\n",
    "\n",
    "# Term Document Frequency\n",
    "corpus = [id2word.doc2bow(text) for text in texts]"
   ]
  },
  {
   "cell_type": "code",
   "execution_count": 26,
   "metadata": {
    "ExecuteTime": {
     "end_time": "2020-07-24T09:23:47.020362Z",
     "start_time": "2020-07-24T09:23:47.008360Z"
    }
   },
   "outputs": [
    {
     "name": "stdout",
     "output_type": "stream",
     "text": [
      "1.0 0.0037225924133566617\n"
     ]
    }
   ],
   "source": [
    "#alpha suggested value: 50/Topic_num\n",
    "alpha = 50/n_topics\n",
    "\n",
    "#eta suggestd value: 200/Voca_num\n",
    "eta = 200/len(id2word)\n",
    "\n",
    "print(alpha, eta)"
   ]
  },
  {
   "cell_type": "code",
   "execution_count": 28,
   "metadata": {
    "ExecuteTime": {
     "end_time": "2020-07-24T09:25:59.593925Z",
     "start_time": "2020-07-24T09:23:55.047472Z"
    }
   },
   "outputs": [
    {
     "name": "stderr",
     "output_type": "stream",
     "text": [
      "D:\\Software\\Anaconda3\\lib\\site-packages\\gensim\\models\\ldamodel.py:775: RuntimeWarning: divide by zero encountered in log\n",
      "  diff = np.log(self.expElogbeta)\n"
     ]
    }
   ],
   "source": [
    "# baseline model\n",
    "lda_model = gensim.models.LdaMulticore(corpus=corpus,\n",
    "                                       id2word=id2word,\n",
    "                                       num_topics=n_topics,alpha=alpha, eta=eta,\n",
    "                                       random_state=100,\n",
    "                                       chunksize=100,\n",
    "                                       passes=10,\n",
    "                                       per_word_topics=True)"
   ]
  },
  {
   "cell_type": "code",
   "execution_count": 29,
   "metadata": {
    "ExecuteTime": {
     "end_time": "2020-07-24T09:27:54.795835Z",
     "start_time": "2020-07-24T09:26:03.094575Z"
    }
   },
   "outputs": [
    {
     "name": "stdout",
     "output_type": "stream",
     "text": [
      "Coherence Score:  0.3488433696280511\n"
     ]
    }
   ],
   "source": [
    "# Compute Coherence Score\n",
    "coherence_model_lda = CoherenceModel(model=lda_model, texts=transcript_tokens, dictionary=id2word, coherence='c_v')\n",
    "coherence_lda = coherence_model_lda.get_coherence()\n",
    "print('Coherence Score: ', coherence_lda)"
   ]
  },
  {
   "cell_type": "code",
   "execution_count": 30,
   "metadata": {
    "ExecuteTime": {
     "end_time": "2020-07-24T09:27:58.418003Z",
     "start_time": "2020-07-24T09:27:58.360763Z"
    }
   },
   "outputs": [],
   "source": [
    "# Print the Keyword in the 10 topics\n",
    "gensim_lda_df = pd.DataFrame()\n",
    "for idx, topic_string in lda_model.print_topics():\n",
    "    string_parts = [x.strip().split(\"*\") for x in topic_string.split(\"+\")]\n",
    "    string_parts = [(x[0],x[1][1:-1]) for x in string_parts]\n",
    "    gensim_lda_df['topic {}'.format(idx+1)] = string_parts\n",
    "# doc_lda = list(lda_model[corpus])"
   ]
  },
  {
   "cell_type": "code",
   "execution_count": 32,
   "metadata": {
    "ExecuteTime": {
     "end_time": "2020-07-24T09:51:27.734091Z",
     "start_time": "2020-07-24T09:51:27.657059Z"
    },
    "scrolled": true
   },
   "outputs": [
    {
     "data": {
      "text/html": [
       "<div>\n",
       "<style scoped>\n",
       "    .dataframe tbody tr th:only-of-type {\n",
       "        vertical-align: middle;\n",
       "    }\n",
       "\n",
       "    .dataframe tbody tr th {\n",
       "        vertical-align: top;\n",
       "    }\n",
       "\n",
       "    .dataframe thead th {\n",
       "        text-align: right;\n",
       "    }\n",
       "</style>\n",
       "<table border=\"1\" class=\"dataframe\">\n",
       "  <thead>\n",
       "    <tr style=\"text-align: right;\">\n",
       "      <th></th>\n",
       "      <th>0</th>\n",
       "      <th>1</th>\n",
       "      <th>2</th>\n",
       "      <th>3</th>\n",
       "      <th>4</th>\n",
       "      <th>5</th>\n",
       "      <th>6</th>\n",
       "      <th>7</th>\n",
       "      <th>8</th>\n",
       "      <th>9</th>\n",
       "    </tr>\n",
       "  </thead>\n",
       "  <tbody>\n",
       "    <tr>\n",
       "      <th>topic 41</th>\n",
       "      <td>(0.092, love)</td>\n",
       "      <td>(0.031, fish)</td>\n",
       "      <td>(0.017, think)</td>\n",
       "      <td>(0.016, come)</td>\n",
       "      <td>(0.012, partner)</td>\n",
       "      <td>(0.011, look)</td>\n",
       "      <td>(0.011, shark)</td>\n",
       "      <td>(0.011, island)</td>\n",
       "      <td>(0.011, know)</td>\n",
       "      <td>(0.011, go)</td>\n",
       "    </tr>\n",
       "    <tr>\n",
       "      <th>topic 5</th>\n",
       "      <td>(0.049, woman)</td>\n",
       "      <td>(0.028, man)</td>\n",
       "      <td>(0.026, girl)</td>\n",
       "      <td>(0.010, walk)</td>\n",
       "      <td>(0.010, water)</td>\n",
       "      <td>(0.009, come)</td>\n",
       "      <td>(0.009, boy)</td>\n",
       "      <td>(0.009, know)</td>\n",
       "      <td>(0.008, female)</td>\n",
       "      <td>(0.008, go)</td>\n",
       "    </tr>\n",
       "    <tr>\n",
       "      <th>topic 22</th>\n",
       "      <td>(0.030, actually)</td>\n",
       "      <td>(0.027, time)</td>\n",
       "      <td>(0.023, like)</td>\n",
       "      <td>(0.019, art)</td>\n",
       "      <td>(0.017, thing)</td>\n",
       "      <td>(0.017, space)</td>\n",
       "      <td>(0.015, fly)</td>\n",
       "      <td>(0.015, go)</td>\n",
       "      <td>(0.015, house)</td>\n",
       "      <td>(0.015, library)</td>\n",
       "    </tr>\n",
       "    <tr>\n",
       "      <th>topic 20</th>\n",
       "      <td>(0.070, heart)</td>\n",
       "      <td>(0.032, save)</td>\n",
       "      <td>(0.030, wish)</td>\n",
       "      <td>(0.029, road)</td>\n",
       "      <td>(0.029, attack)</td>\n",
       "      <td>(0.027, people)</td>\n",
       "      <td>(0.023, go)</td>\n",
       "      <td>(0.022, idea)</td>\n",
       "      <td>(0.022, life)</td>\n",
       "      <td>(0.016, way)</td>\n",
       "    </tr>\n",
       "    <tr>\n",
       "      <th>topic 30</th>\n",
       "      <td>(0.009, universe)</td>\n",
       "      <td>(0.009, science)</td>\n",
       "      <td>(0.008, like)</td>\n",
       "      <td>(0.006, look)</td>\n",
       "      <td>(0.006, know)</td>\n",
       "      <td>(0.006, space)</td>\n",
       "      <td>(0.005, time)</td>\n",
       "      <td>(0.005, light)</td>\n",
       "      <td>(0.005, thing)</td>\n",
       "      <td>(0.005, think)</td>\n",
       "    </tr>\n",
       "    <tr>\n",
       "      <th>topic 11</th>\n",
       "      <td>(0.081, want)</td>\n",
       "      <td>(0.044, go)</td>\n",
       "      <td>(0.037, say)</td>\n",
       "      <td>(0.028, come)</td>\n",
       "      <td>(0.028, thing)</td>\n",
       "      <td>(0.027, time)</td>\n",
       "      <td>(0.024, life)</td>\n",
       "      <td>(0.021, talk)</td>\n",
       "      <td>(0.020, like)</td>\n",
       "      <td>(0.020, get)</td>\n",
       "    </tr>\n",
       "    <tr>\n",
       "      <th>topic 19</th>\n",
       "      <td>(0.034, people)</td>\n",
       "      <td>(0.023, think)</td>\n",
       "      <td>(0.020, go)</td>\n",
       "      <td>(0.019, net)</td>\n",
       "      <td>(0.019, know)</td>\n",
       "      <td>(0.017, talk)</td>\n",
       "      <td>(0.017, get)</td>\n",
       "      <td>(0.017, bed)</td>\n",
       "      <td>(0.016, thing)</td>\n",
       "      <td>(0.015, drug)</td>\n",
       "    </tr>\n",
       "    <tr>\n",
       "      <th>topic 40</th>\n",
       "      <td>(0.062, life)</td>\n",
       "      <td>(0.037, story)</td>\n",
       "      <td>(0.035, experience)</td>\n",
       "      <td>(0.032, self)</td>\n",
       "      <td>(0.032, people)</td>\n",
       "      <td>(0.029, happy)</td>\n",
       "      <td>(0.021, think)</td>\n",
       "      <td>(0.016, feel)</td>\n",
       "      <td>(0.015, good)</td>\n",
       "      <td>(0.014, happiness)</td>\n",
       "    </tr>\n",
       "    <tr>\n",
       "      <th>topic 35</th>\n",
       "      <td>(0.097, word)</td>\n",
       "      <td>(0.067, language)</td>\n",
       "      <td>(0.031, write)</td>\n",
       "      <td>(0.028, speak)</td>\n",
       "      <td>(0.020, example)</td>\n",
       "      <td>(0.019, think)</td>\n",
       "      <td>(0.015, sentence)</td>\n",
       "      <td>(0.015, learn)</td>\n",
       "      <td>(0.014, people)</td>\n",
       "      <td>(0.013, speech)</td>\n",
       "    </tr>\n",
       "    <tr>\n",
       "      <th>topic 31</th>\n",
       "      <td>(0.051, computer)</td>\n",
       "      <td>(0.032, build)</td>\n",
       "      <td>(0.022, program)</td>\n",
       "      <td>(0.022, like)</td>\n",
       "      <td>(0.020, structure)</td>\n",
       "      <td>(0.016, actually)</td>\n",
       "      <td>(0.014, hair)</td>\n",
       "      <td>(0.014, look)</td>\n",
       "      <td>(0.013, charge)</td>\n",
       "      <td>(0.013, create)</td>\n",
       "    </tr>\n",
       "  </tbody>\n",
       "</table>\n",
       "</div>"
      ],
      "text/plain": [
       "                          0                  1                    2  \\\n",
       "topic 41      (0.092, love)      (0.031, fish)       (0.017, think)   \n",
       "topic 5      (0.049, woman)       (0.028, man)        (0.026, girl)   \n",
       "topic 22  (0.030, actually)      (0.027, time)        (0.023, like)   \n",
       "topic 20     (0.070, heart)      (0.032, save)        (0.030, wish)   \n",
       "topic 30  (0.009, universe)   (0.009, science)        (0.008, like)   \n",
       "topic 11      (0.081, want)        (0.044, go)         (0.037, say)   \n",
       "topic 19    (0.034, people)     (0.023, think)          (0.020, go)   \n",
       "topic 40      (0.062, life)     (0.037, story)  (0.035, experience)   \n",
       "topic 35      (0.097, word)  (0.067, language)       (0.031, write)   \n",
       "topic 31  (0.051, computer)     (0.032, build)     (0.022, program)   \n",
       "\n",
       "                       3                   4                  5  \\\n",
       "topic 41   (0.016, come)    (0.012, partner)      (0.011, look)   \n",
       "topic 5    (0.010, walk)      (0.010, water)      (0.009, come)   \n",
       "topic 22    (0.019, art)      (0.017, thing)     (0.017, space)   \n",
       "topic 20   (0.029, road)     (0.029, attack)    (0.027, people)   \n",
       "topic 30   (0.006, look)       (0.006, know)     (0.006, space)   \n",
       "topic 11   (0.028, come)      (0.028, thing)      (0.027, time)   \n",
       "topic 19    (0.019, net)       (0.019, know)      (0.017, talk)   \n",
       "topic 40   (0.032, self)     (0.032, people)     (0.029, happy)   \n",
       "topic 35  (0.028, speak)    (0.020, example)     (0.019, think)   \n",
       "topic 31   (0.022, like)  (0.020, structure)  (0.016, actually)   \n",
       "\n",
       "                          6                7                8  \\\n",
       "topic 41     (0.011, shark)  (0.011, island)    (0.011, know)   \n",
       "topic 5        (0.009, boy)    (0.009, know)  (0.008, female)   \n",
       "topic 22       (0.015, fly)      (0.015, go)   (0.015, house)   \n",
       "topic 20        (0.023, go)    (0.022, idea)    (0.022, life)   \n",
       "topic 30      (0.005, time)   (0.005, light)   (0.005, thing)   \n",
       "topic 11      (0.024, life)    (0.021, talk)    (0.020, like)   \n",
       "topic 19       (0.017, get)     (0.017, bed)   (0.016, thing)   \n",
       "topic 40     (0.021, think)    (0.016, feel)    (0.015, good)   \n",
       "topic 35  (0.015, sentence)   (0.015, learn)  (0.014, people)   \n",
       "topic 31      (0.014, hair)    (0.014, look)  (0.013, charge)   \n",
       "\n",
       "                           9  \n",
       "topic 41         (0.011, go)  \n",
       "topic 5          (0.008, go)  \n",
       "topic 22    (0.015, library)  \n",
       "topic 20        (0.016, way)  \n",
       "topic 30      (0.005, think)  \n",
       "topic 11        (0.020, get)  \n",
       "topic 19       (0.015, drug)  \n",
       "topic 40  (0.014, happiness)  \n",
       "topic 35     (0.013, speech)  \n",
       "topic 31     (0.013, create)  "
      ]
     },
     "execution_count": 32,
     "metadata": {},
     "output_type": "execute_result"
    }
   ],
   "source": [
    "gensim_lda_df.transpose().head(10)"
   ]
  },
  {
   "cell_type": "markdown",
   "metadata": {},
   "source": [
    "<a id='gensim-lda-tuning'></a>\n",
    "### Tuning of Hyperparameters for Gensim LDA###"
   ]
  },
  {
   "cell_type": "code",
   "execution_count": null,
   "metadata": {},
   "outputs": [],
   "source": [
    "df = pd.DataFrame(columns=['topic_num','alpha','eta','coherence_score'])\n",
    "\n",
    "topic_range = range(20,81,10) # subject to change based on needs\n",
    "\n",
    "alpha = list(np.arange(0.01, 1, 0.3))\n",
    "alpha.append('symmetric')\n",
    "alpha.append('asymmetric')\n",
    "\n",
    "eta = list(np.arange(0.01, 1, 0.3))\n",
    "eta.append('symmetric')\n",
    "\n",
    "pbar = tqdm(total = len(topic_range) * len(alpha) * len(eta))\n",
    "\n",
    "for i in topic_range:\n",
    "    for a in alpha:\n",
    "        for e in eta:\n",
    "            df = df.append(pd.DataFrame([\n",
    "                [i,a,e,compute_coherence_values(i,a,e)]\n",
    "            ],columns=df.columns))\n",
    "            pbar.update(1)\n",
    "# pickle.dump(df,open('gensim_lda_tuning_results.p','wb'))"
   ]
  },
  {
   "cell_type": "code",
   "execution_count": 37,
   "metadata": {
    "ExecuteTime": {
     "end_time": "2020-07-24T12:51:22.594062Z",
     "start_time": "2020-07-24T12:46:45.446817Z"
    }
   },
   "outputs": [
    {
     "name": "stdout",
     "output_type": "stream",
     "text": [
      "Coherence Score:  0.42010581832380006\n"
     ]
    }
   ],
   "source": [
    "# best model\n",
    "lda_model = gensim.models.LdaMulticore(corpus=corpus,\n",
    "                                       id2word=id2word,\n",
    "                                       num_topics=58,alpha='asymmetric', eta='symmetric',\n",
    "                                       random_state=100,\n",
    "                                       chunksize=100,\n",
    "                                       passes=10,\n",
    "                                       per_word_topics=True)\n",
    "\n",
    "# Compute Coherence Score\n",
    "coherence_model_lda = CoherenceModel(model=lda_model, texts=transcript_tokens, dictionary=id2word, coherence='c_v')\n",
    "coherence_lda = coherence_model_lda.get_coherence()\n",
    "print('Coherence Score: ', coherence_lda)"
   ]
  },
  {
   "cell_type": "markdown",
   "metadata": {},
   "source": [
    "<a id='lda-mallet'></a>\n",
    "## LDA Mallet ##\n",
    "\n",
    "> We also attemped with LDA Mallet, which is proven to have better performances than Gensim LDA in many applications. <br><br>\n",
    "We first evaluated the baseline performance with the common topic of 50, followed by the best topic number of 58 from Gensim LDA. From the results, we can see that the baseline performance of LDA Mallet is better than that of Gensim LDA with the best set of hyperparameters. Therefore, we decided to proceed with LDA mallet.<br><br>\n",
    "    As LDA Mallet has the <a href='#lda-mallet-tuning'>built-in optimization</a>of hyperparatmer Alpha (LDA mallet does not allow to specify eta), with the ```optimize_interval``` parameter. We would leave it to the model to optimize the tune the Alpha parameter. <br><br> \n",
    "    As for the number of topics, we carried out similar way to find the best value. The faster computation of LDA Mallet due to the built-in optimization allows us to expand the range of search to 10 to 100 topic numbers. We used a step of 5 first followed by a step of 1. As we found that there is some randomness in the optimization, for each topic number, we would run the model 5 times to obtain an average Coherence score. We then plotted the average Coherence score with the number of topics to see the trend and identify the best topic number. <br><br>\n",
    "    From the <a href='#lda-mallet-graph'>graph</a>, we can see that the coherence reaches about the ceiling around topic 35. Therefore, we chose the topic 30 as our best number of topics."
   ]
  },
  {
   "cell_type": "code",
   "execution_count": 5,
   "metadata": {
    "ExecuteTime": {
     "end_time": "2020-07-29T06:10:07.047809Z",
     "start_time": "2020-07-29T06:10:07.042810Z"
    }
   },
   "outputs": [],
   "source": [
    "# Download File: http://mallet.cs.umass.edu/dist/mallet-2.0.8.zip\n",
    "import os\n",
    "# set environmental variables and mallet path\n",
    "os.environ.update({'MALLET_HOME':r'D:/Documents/SMU/mallet/mallet-2.0.8/'})\n",
    "mallet_path = r'D:\\\\Documents\\\\SMU\\\\mallet\\\\mallet-2.0.8\\\\bin\\\\mallet' # update this path"
   ]
  },
  {
   "cell_type": "code",
   "execution_count": 35,
   "metadata": {
    "ExecuteTime": {
     "end_time": "2020-07-24T12:12:23.668604Z",
     "start_time": "2020-07-24T12:04:58.049511Z"
    },
    "scrolled": true
   },
   "outputs": [
    {
     "name": "stderr",
     "output_type": "stream",
     "text": [
      "D:\\Software\\Anaconda3\\lib\\site-packages\\smart_open\\smart_open_lib.py:253: UserWarning: This function is deprecated, use smart_open.open instead. See the migration notes for details: https://github.com/RaRe-Technologies/smart_open/blob/master/README.rst#migrating-to-the-new-open-function\n",
      "  'See the migration notes for details: %s' % _MIGRATION_NOTES_URL\n"
     ]
    },
    {
     "name": "stdout",
     "output_type": "stream",
     "text": [
      "Coherence Score:  0.45732565873352315\n"
     ]
    }
   ],
   "source": [
    "# baseline performance\n",
    "ldamallet = gensim.models.wrappers.LdaMallet(mallet_path, \n",
    "                                             corpus=corpus,\n",
    "                                             id2word=id2word,\n",
    "                                             num_topics=50)\n",
    "# Compute Coherence Score\n",
    "coherence_model_lda = CoherenceModel(model=ldamallet, texts=transcript_tokens, dictionary=id2word, coherence='c_v')\n",
    "coherence_lda = coherence_model_lda.get_coherence()\n",
    "print('Coherence Score: ', coherence_lda)"
   ]
  },
  {
   "cell_type": "code",
   "execution_count": 38,
   "metadata": {
    "ExecuteTime": {
     "end_time": "2020-07-24T12:59:05.795985Z",
     "start_time": "2020-07-24T12:51:28.710291Z"
    }
   },
   "outputs": [
    {
     "name": "stderr",
     "output_type": "stream",
     "text": [
      "D:\\Software\\Anaconda3\\lib\\site-packages\\smart_open\\smart_open_lib.py:253: UserWarning: This function is deprecated, use smart_open.open instead. See the migration notes for details: https://github.com/RaRe-Technologies/smart_open/blob/master/README.rst#migrating-to-the-new-open-function\n",
      "  'See the migration notes for details: %s' % _MIGRATION_NOTES_URL\n"
     ]
    },
    {
     "name": "stdout",
     "output_type": "stream",
     "text": [
      "Coherence Score:  0.4544578644778608\n"
     ]
    }
   ],
   "source": [
    "# baseline performance\n",
    "ldamallet = gensim.models.wrappers.LdaMallet(mallet_path, \n",
    "                                             corpus=corpus,\n",
    "                                             id2word=id2word,\n",
    "                                             num_topics=58)\n",
    "\n",
    "# Compute Coherence Score\n",
    "coherence_model_lda = CoherenceModel(model=ldamallet, texts=transcript_tokens, dictionary=id2word, coherence='c_v')\n",
    "coherence_lda = coherence_model_lda.get_coherence()\n",
    "print('Coherence Score: ', coherence_lda)"
   ]
  },
  {
   "cell_type": "markdown",
   "metadata": {},
   "source": [
    "<a id='lda-mallet-tuning'></a>\n",
    "### Tuning of LDA Mallet###"
   ]
  },
  {
   "cell_type": "code",
   "execution_count": null,
   "metadata": {},
   "outputs": [],
   "source": [
    "topicNum_score_dict = {}\n",
    "for j in range(5):\n",
    "    for i in range(10,100,5):\n",
    "        ldamallet_tuned = gensim.models.wrappers.LdaMallet(mallet_path, \n",
    "                                                     corpus=corpus,\n",
    "                                                     id2word=id2word,\n",
    "                                                     optimize_interval=10,\n",
    "                                                      num_topics=i)\n",
    "        coherence_model_lda = CoherenceModel(model=ldamallet_tuned, texts=transcript_tokens, dictionary=id2word, coherence='c_v')\n",
    "        coherence_lda = coherence_model_lda.get_coherence()\n",
    "       \n",
    "        try:\n",
    "            topicNum_score_dict[i].append(coherence_lda)\n",
    "        except:\n",
    "            topicNum_score_dict[i] = [coherence_lda]"
   ]
  },
  {
   "cell_type": "code",
   "execution_count": null,
   "metadata": {},
   "outputs": [],
   "source": [
    "for j in range(5):\n",
    "    for i in range(31,36):\n",
    "        ldamallet_tuned = gensim.models.wrappers.LdaMallet(mallet_path, \n",
    "                                                     corpus=corpus,\n",
    "                                                     id2word=id2word,\n",
    "                                                     optimize_interval=10,\n",
    "                                                      num_topics=i)\n",
    "        coherence_model_lda = CoherenceModel(model=ldamallet_tuned, texts=transcript_tokens, dictionary=id2word, coherence='c_v')\n",
    "        coherence_lda = coherence_model_lda.get_coherence()\n",
    "        \n",
    "        try:\n",
    "            topicNum_score_dict[i].append(coherence_lda)\n",
    "        except:\n",
    "            topicNum_score_dict[i] = [coherence_lda]"
   ]
  },
  {
   "cell_type": "markdown",
   "metadata": {},
   "source": [
    "<a id='lda-mallet-graph'></a>\n",
    "### LDA-Mallet Tuning result ###"
   ]
  },
  {
   "cell_type": "code",
   "execution_count": 2,
   "metadata": {
    "ExecuteTime": {
     "end_time": "2020-07-27T17:58:05.521179Z",
     "start_time": "2020-07-27T17:58:05.506175Z"
    }
   },
   "outputs": [],
   "source": [
    "topicNum_score_dict = {}\n",
    "with open('data/output/lda-mallet-tuning-output.txt') as f:\n",
    "    lines = f.readlines()\n",
    "    for line in lines:\n",
    "        line = line.strip()\n",
    "        parts = line.split()\n",
    "        if parts == []:\n",
    "            continue\n",
    "        if parts[2] not in topicNum_score_dict:\n",
    "            topicNum_score_dict[parts[2]] = [float(parts[-1])]\n",
    "        else:\n",
    "            topicNum_score_dict[parts[2]]+=[float(parts[-1])]\n",
    "topicNum_score_dict = {k:sum(v)/len(v) for k,v in topicNum_score_dict.items()}"
   ]
  },
  {
   "cell_type": "code",
   "execution_count": 9,
   "metadata": {
    "ExecuteTime": {
     "end_time": "2020-07-27T18:00:07.874761Z",
     "start_time": "2020-07-27T18:00:07.545764Z"
    }
   },
   "outputs": [
    {
     "data": {
      "image/png": "[encoded data removed]",
      "text/plain": [
       "<Figure size 720x576 with 1 Axes>"
      ]
     },
     "metadata": {
      "needs_background": "light"
     },
     "output_type": "display_data"
    }
   ],
   "source": [
    "x = list(topicNum_score_dict.keys())\n",
    "y = list(topicNum_score_dict.values())\n",
    "plt.figure(figsize=(10,8))\n",
    "plt.plot(x,y)\n",
    "plt.ylabel(\"Coherence score\",fontsize=15)\n",
    "plt.xlabel(\"Number of topics\",fontsize=15)\n",
    "plt.title('Coherence score of LDA Mallet model with different topic numbers',fontsize=15)\n",
    "plt.savefig('data/output/lda-mallet-tuning.png')\n",
    "plt.show()"
   ]
  },
  {
   "cell_type": "markdown",
   "metadata": {},
   "source": [
    "## Final Model and Output ##"
   ]
  },
  {
   "cell_type": "code",
   "execution_count": 6,
   "metadata": {
    "ExecuteTime": {
     "end_time": "2020-07-29T06:13:41.461614Z",
     "start_time": "2020-07-29T06:10:27.375511Z"
    }
   },
   "outputs": [
    {
     "name": "stderr",
     "output_type": "stream",
     "text": [
      "D:\\Software\\Anaconda3\\lib\\site-packages\\smart_open\\smart_open_lib.py:253: UserWarning: This function is deprecated, use smart_open.open instead. See the migration notes for details: https://github.com/RaRe-Technologies/smart_open/blob/master/README.rst#migrating-to-the-new-open-function\n",
      "  'See the migration notes for details: %s' % _MIGRATION_NOTES_URL\n"
     ]
    }
   ],
   "source": [
    "# topic num is 35\n",
    "ldamallet_tuned = gensim.models.wrappers.LdaMallet(mallet_path, \n",
    "                                                 corpus=corpus,\n",
    "                                                 id2word=id2word,\n",
    "                                                 optimize_interval=20,\n",
    "                                                  num_topics=35)"
   ]
  },
  {
   "cell_type": "code",
   "execution_count": 19,
   "metadata": {
    "ExecuteTime": {
     "end_time": "2020-07-29T06:25:55.011523Z",
     "start_time": "2020-07-29T06:25:49.188377Z"
    }
   },
   "outputs": [
    {
     "data": {
      "text/plain": [
       "((2435, 35),\n",
       "          0         1         2         3         4         5         6   \\\n",
       " 0  0.001198  0.017852  0.007894  0.014639  0.041404  0.054975  0.000146   \n",
       " 1  0.010592  0.000108  0.000160  0.010744  0.024355  0.106979  0.001693   \n",
       " 2  0.000077  0.000071  0.000106  0.001162  0.045579  0.049733  0.173478   \n",
       " 3  0.000067  0.001755  0.009411  0.104364  0.003623  0.142755  0.000111   \n",
       " 4  0.000087  0.000080  0.001230  0.354528  0.008082  0.013877  0.057905   \n",
       " \n",
       "          7         8         9   ...        25        26        27        28  \\\n",
       " 0  0.184507  0.000118  0.000156  ...  0.000172  0.031171  0.000179  0.000083   \n",
       " 1  0.000166  0.173734  0.073531  ...  0.000231  0.013562  0.010715  0.000111   \n",
       " 2  0.000109  0.001089  0.041506  ...  0.012956  0.000062  0.000158  0.000073   \n",
       " 3  0.011956  0.106843  0.061121  ...  0.005214  0.000054  0.000136  0.000063   \n",
       " 4  0.036778  0.000118  0.006821  ...  0.000172  0.000070  0.063491  0.000083   \n",
       " \n",
       "          29        30        31        32        33        34  \n",
       " 0  0.000060  0.002348  0.032353  0.000137  0.000078  0.000158  \n",
       " 1  0.000080  0.012141  0.000190  0.088469  0.000104  0.025651  \n",
       " 2  0.000053  0.000112  0.024748  0.003077  0.000069  0.000140  \n",
       " 3  0.000045  0.266979  0.000108  0.035689  0.000059  0.000121  \n",
       " 4  0.000060  0.000126  0.003473  0.000137  0.000078  0.368926  \n",
       " \n",
       " [5 rows x 35 columns])"
      ]
     },
     "execution_count": 19,
     "metadata": {},
     "output_type": "execute_result"
    }
   ],
   "source": [
    "docTopicMatrix = pd.DataFrame(columns=range(0,35))\n",
    "for row in ldamallet_tuned.load_document_topics():\n",
    "    row_data = [x[1] for x in row]\n",
    "    docTopicMatrix = docTopicMatrix.append(pd.DataFrame([row_data],columns=docTopicMatrix.columns))\n",
    "docTopicMatrix = docTopicMatrix.reset_index(drop=True)\n",
    "docTopicMatrix.shape, docTopicMatrix.head()"
   ]
  },
  {
   "cell_type": "code",
   "execution_count": 20,
   "metadata": {
    "ExecuteTime": {
     "end_time": "2020-07-29T06:26:00.088552Z",
     "start_time": "2020-07-29T06:25:59.940468Z"
    }
   },
   "outputs": [
    {
     "data": {
      "text/html": [
       "<div>\n",
       "<style scoped>\n",
       "    .dataframe tbody tr th:only-of-type {\n",
       "        vertical-align: middle;\n",
       "    }\n",
       "\n",
       "    .dataframe tbody tr th {\n",
       "        vertical-align: top;\n",
       "    }\n",
       "\n",
       "    .dataframe thead th {\n",
       "        text-align: right;\n",
       "    }\n",
       "</style>\n",
       "<table border=\"1\" class=\"dataframe\">\n",
       "  <thead>\n",
       "    <tr style=\"text-align: right;\">\n",
       "      <th></th>\n",
       "      <th>0</th>\n",
       "      <th>1</th>\n",
       "      <th>2</th>\n",
       "      <th>3</th>\n",
       "      <th>4</th>\n",
       "      <th>5</th>\n",
       "      <th>6</th>\n",
       "      <th>7</th>\n",
       "      <th>8</th>\n",
       "      <th>9</th>\n",
       "      <th>...</th>\n",
       "      <th>25</th>\n",
       "      <th>26</th>\n",
       "      <th>27</th>\n",
       "      <th>28</th>\n",
       "      <th>29</th>\n",
       "      <th>30</th>\n",
       "      <th>31</th>\n",
       "      <th>32</th>\n",
       "      <th>33</th>\n",
       "      <th>34</th>\n",
       "    </tr>\n",
       "  </thead>\n",
       "  <tbody>\n",
       "    <tr>\n",
       "      <th>0</th>\n",
       "      <td>(0.032, war)</td>\n",
       "      <td>(0.127, woman)</td>\n",
       "      <td>(0.029, patient)</td>\n",
       "      <td>(0.017, country)</td>\n",
       "      <td>(0.012, kind)</td>\n",
       "      <td>(0.03, work)</td>\n",
       "      <td>(0.029, datum)</td>\n",
       "      <td>(0.061, school)</td>\n",
       "      <td>(0.033, water)</td>\n",
       "      <td>(0.029, money)</td>\n",
       "      <td>...</td>\n",
       "      <td>(0.032, feel)</td>\n",
       "      <td>(0.095, brain)</td>\n",
       "      <td>(0.02, science)</td>\n",
       "      <td>(0.025, planet)</td>\n",
       "      <td>(0.033, ocean)</td>\n",
       "      <td>(0.06, city)</td>\n",
       "      <td>(0.025, art)</td>\n",
       "      <td>(0.023, government)</td>\n",
       "      <td>(0.052, cell)</td>\n",
       "      <td>(0.042, world)</td>\n",
       "    </tr>\n",
       "    <tr>\n",
       "      <th>1</th>\n",
       "      <td>(0.013, kill)</td>\n",
       "      <td>(0.058, man)</td>\n",
       "      <td>(0.025, cancer)</td>\n",
       "      <td>(0.016, world)</td>\n",
       "      <td>(0.01, structure)</td>\n",
       "      <td>(0.019, time)</td>\n",
       "      <td>(0.021, information)</td>\n",
       "      <td>(0.054, kid)</td>\n",
       "      <td>(0.029, energy)</td>\n",
       "      <td>(0.028, company)</td>\n",
       "      <td>...</td>\n",
       "      <td>(0.028, people)</td>\n",
       "      <td>(0.015, neuron)</td>\n",
       "      <td>(0.016, people)</td>\n",
       "      <td>(0.025, universe)</td>\n",
       "      <td>(0.026, fish)</td>\n",
       "      <td>(0.032, building)</td>\n",
       "      <td>(0.024, image)</td>\n",
       "      <td>(0.018, country)</td>\n",
       "      <td>(0.02, dna)</td>\n",
       "      <td>(0.039, people)</td>\n",
       "    </tr>\n",
       "    <tr>\n",
       "      <th>2</th>\n",
       "      <td>(0.012, conflict)</td>\n",
       "      <td>(0.035, girl)</td>\n",
       "      <td>(0.023, disease)</td>\n",
       "      <td>(0.015, change)</td>\n",
       "      <td>(0.01, form)</td>\n",
       "      <td>(0.018, people)</td>\n",
       "      <td>(0.02, internet)</td>\n",
       "      <td>(0.038, student)</td>\n",
       "      <td>(0.014, oil)</td>\n",
       "      <td>(0.023, business)</td>\n",
       "      <td>...</td>\n",
       "      <td>(0.021, experience)</td>\n",
       "      <td>(0.011, memory)</td>\n",
       "      <td>(0.015, question)</td>\n",
       "      <td>(0.017, space)</td>\n",
       "      <td>(0.021, water)</td>\n",
       "      <td>(0.022, design)</td>\n",
       "      <td>(0.019, work)</td>\n",
       "      <td>(0.016, power)</td>\n",
       "      <td>(0.017, gene)</td>\n",
       "      <td>(0.037, country)</td>\n",
       "    </tr>\n",
       "    <tr>\n",
       "      <th>3</th>\n",
       "      <td>(0.012, refugee)</td>\n",
       "      <td>(0.02, sex)</td>\n",
       "      <td>(0.02, health)</td>\n",
       "      <td>(0.011, China)</td>\n",
       "      <td>(0.009, system)</td>\n",
       "      <td>(0.012, change)</td>\n",
       "      <td>(0.015, people)</td>\n",
       "      <td>(0.031, child)</td>\n",
       "      <td>(0.012, carbon)</td>\n",
       "      <td>(0.017, market)</td>\n",
       "      <td>...</td>\n",
       "      <td>(0.021, life)</td>\n",
       "      <td>(0.009, consciousness)</td>\n",
       "      <td>(0.012, study)</td>\n",
       "      <td>(0.016, star)</td>\n",
       "      <td>(0.019, sea)</td>\n",
       "      <td>(0.022, build)</td>\n",
       "      <td>(0.014, create)</td>\n",
       "      <td>(0.014, political)</td>\n",
       "      <td>(0.014, body)</td>\n",
       "      <td>(0.017, India)</td>\n",
       "    </tr>\n",
       "    <tr>\n",
       "      <th>4</th>\n",
       "      <td>(0.011, military)</td>\n",
       "      <td>(0.014, boy)</td>\n",
       "      <td>(0.017, doctor)</td>\n",
       "      <td>(0.01, growth)</td>\n",
       "      <td>(0.009, pattern)</td>\n",
       "      <td>(0.009, problem)</td>\n",
       "      <td>(0.013, phone)</td>\n",
       "      <td>(0.03, teacher)</td>\n",
       "      <td>(0.011, climate)</td>\n",
       "      <td>(0.014, pay)</td>\n",
       "      <td>...</td>\n",
       "      <td>(0.018, love)</td>\n",
       "      <td>(0.009, sleep)</td>\n",
       "      <td>(0.011, answer)</td>\n",
       "      <td>(0.014, light)</td>\n",
       "      <td>(0.013, coral)</td>\n",
       "      <td>(0.018, place)</td>\n",
       "      <td>(0.014, light)</td>\n",
       "      <td>(0.013, democracy)</td>\n",
       "      <td>(0.013, life)</td>\n",
       "      <td>(0.014, child)</td>\n",
       "    </tr>\n",
       "  </tbody>\n",
       "</table>\n",
       "<p>5 rows × 35 columns</p>\n",
       "</div>"
      ],
      "text/plain": [
       "                  0               1                 2                 3   \\\n",
       "0       (0.032, war)  (0.127, woman)  (0.029, patient)  (0.017, country)   \n",
       "1      (0.013, kill)    (0.058, man)   (0.025, cancer)    (0.016, world)   \n",
       "2  (0.012, conflict)   (0.035, girl)  (0.023, disease)   (0.015, change)   \n",
       "3   (0.012, refugee)     (0.02, sex)    (0.02, health)    (0.011, China)   \n",
       "4  (0.011, military)    (0.014, boy)   (0.017, doctor)    (0.01, growth)   \n",
       "\n",
       "                  4                 5                     6   \\\n",
       "0      (0.012, kind)      (0.03, work)        (0.029, datum)   \n",
       "1  (0.01, structure)     (0.019, time)  (0.021, information)   \n",
       "2       (0.01, form)   (0.018, people)      (0.02, internet)   \n",
       "3    (0.009, system)   (0.012, change)       (0.015, people)   \n",
       "4   (0.009, pattern)  (0.009, problem)        (0.013, phone)   \n",
       "\n",
       "                 7                 8                  9   ...  \\\n",
       "0   (0.061, school)    (0.033, water)     (0.029, money)  ...   \n",
       "1      (0.054, kid)   (0.029, energy)   (0.028, company)  ...   \n",
       "2  (0.038, student)      (0.014, oil)  (0.023, business)  ...   \n",
       "3    (0.031, child)   (0.012, carbon)    (0.017, market)  ...   \n",
       "4   (0.03, teacher)  (0.011, climate)       (0.014, pay)  ...   \n",
       "\n",
       "                    25                      26                 27  \\\n",
       "0        (0.032, feel)          (0.095, brain)    (0.02, science)   \n",
       "1      (0.028, people)         (0.015, neuron)    (0.016, people)   \n",
       "2  (0.021, experience)         (0.011, memory)  (0.015, question)   \n",
       "3        (0.021, life)  (0.009, consciousness)     (0.012, study)   \n",
       "4        (0.018, love)          (0.009, sleep)    (0.011, answer)   \n",
       "\n",
       "                  28              29                 30               31  \\\n",
       "0    (0.025, planet)  (0.033, ocean)       (0.06, city)     (0.025, art)   \n",
       "1  (0.025, universe)   (0.026, fish)  (0.032, building)   (0.024, image)   \n",
       "2     (0.017, space)  (0.021, water)    (0.022, design)    (0.019, work)   \n",
       "3      (0.016, star)    (0.019, sea)     (0.022, build)  (0.014, create)   \n",
       "4     (0.014, light)  (0.013, coral)     (0.018, place)   (0.014, light)   \n",
       "\n",
       "                    32             33                34  \n",
       "0  (0.023, government)  (0.052, cell)    (0.042, world)  \n",
       "1     (0.018, country)    (0.02, dna)   (0.039, people)  \n",
       "2       (0.016, power)  (0.017, gene)  (0.037, country)  \n",
       "3   (0.014, political)  (0.014, body)    (0.017, India)  \n",
       "4   (0.013, democracy)  (0.013, life)    (0.014, child)  \n",
       "\n",
       "[5 rows x 35 columns]"
      ]
     },
     "execution_count": 20,
     "metadata": {},
     "output_type": "execute_result"
    }
   ],
   "source": [
    "topicWordMatrix = pd.DataFrame()\n",
    "for idx, topic_string in ldamallet_tuned.show_topics(35):\n",
    "    string_parts = [x.strip().split(\"*\") for x in topic_string.split(\"+\")]\n",
    "    string_parts = [(float(x[0]),x[1][1:-1]) for x in string_parts]\n",
    "    topicWordMatrix[idx] = string_parts\n",
    "topicWordMatrix.head()"
   ]
  },
  {
   "cell_type": "code",
   "execution_count": 10,
   "metadata": {
    "ExecuteTime": {
     "end_time": "2020-07-29T06:15:51.913804Z",
     "start_time": "2020-07-29T06:15:50.508314Z"
    }
   },
   "outputs": [],
   "source": [
    "# get the top 3 propabable topics of a talk\n",
    "docTop3TopicMatrix = pd.DataFrame(list(docTopicMatrix.apply(lambda s: s.abs().nlargest(3).index.tolist(), axis=1)))"
   ]
  },
  {
   "cell_type": "code",
   "execution_count": 11,
   "metadata": {
    "ExecuteTime": {
     "end_time": "2020-07-29T06:15:58.354100Z",
     "start_time": "2020-07-29T06:15:58.093511Z"
    }
   },
   "outputs": [],
   "source": [
    "topicWordMatrix.to_csv('data/output/topicWordMatrix.csv',index=False)\n",
    "docTopicMatrix.to_csv('data/output/docTopicMatrix.csv',index=False)\n",
    "docTop3TopicMatrix.to_csv('data/output/docTop3TopicMatrix.csv',index=False)"
   ]
  },
  {
   "cell_type": "code",
   "execution_count": 12,
   "metadata": {
    "ExecuteTime": {
     "end_time": "2020-07-29T06:16:02.260601Z",
     "start_time": "2020-07-29T06:16:02.198302Z"
    }
   },
   "outputs": [],
   "source": [
    "pickle.dump(id2word,open('data/pickle/gensim_id2words.p','wb'))"
   ]
  },
  {
   "cell_type": "code",
   "execution_count": 13,
   "metadata": {
    "ExecuteTime": {
     "end_time": "2020-07-29T06:16:03.098691Z",
     "start_time": "2020-07-29T06:16:03.029641Z"
    }
   },
   "outputs": [],
   "source": [
    "pickle.dump(ldamallet_tuned,open('model/ldamallet_tuned.p','wb'))"
   ]
  },
  {
   "cell_type": "code",
   "execution_count": 15,
   "metadata": {
    "ExecuteTime": {
     "end_time": "2020-07-29T06:16:10.764729Z",
     "start_time": "2020-07-29T06:16:10.747726Z"
    }
   },
   "outputs": [],
   "source": [
    "# generate top topic distribution graph\n",
    "topic_docCount_dict = {i:0 for i in range(35)}\n",
    "\n",
    "for (t1,t2,t3) in docTop3TopicMatrix.to_numpy():\n",
    "    topic_docCount_dict[t1] += 1    "
   ]
  },
  {
   "cell_type": "code",
   "execution_count": 17,
   "metadata": {
    "ExecuteTime": {
     "end_time": "2020-07-29T06:16:17.497221Z",
     "start_time": "2020-07-29T06:16:15.866159Z"
    },
    "scrolled": false
   },
   "outputs": [
    {
     "data": {
      "image/png": "[encoded data removed]",
      "text/plain": [
       "<Figure size 4000x2000 with 1 Axes>"
      ]
     },
     "metadata": {
      "needs_background": "light"
     },
     "output_type": "display_data"
    }
   ],
   "source": [
    "plt.figure(figsize=(20,10),dpi=200)\n",
    "plt.bar(x=topic_docCount_dict.keys(),height=topic_docCount_dict.values())\n",
    "plt.xticks(ticks=np.arange(35),fontsize=15)\n",
    "plt.yticks(fontsize=15)\n",
    "plt.title('Topic Distribution with the Most Likely Topic',fontsize=20)\n",
    "plt.ylabel(\"Number of talks\",fontsize=15)\n",
    "plt.xlabel(\"Topic Number\",fontsize=15)\n",
    "plt.savefig(\"data/output/topTopicDistribution.png\")\n",
    "plt.show()"
   ]
  }
 ],
 "metadata": {
  "kernelspec": {
   "display_name": "Python 3",
   "language": "python",
   "name": "python3"
  },
  "language_info": {
   "codemirror_mode": {
    "name": "ipython",
    "version": 3
   },
   "file_extension": ".py",
   "mimetype": "text/x-python",
   "name": "python",
   "nbconvert_exporter": "python",
   "pygments_lexer": "ipython3",
   "version": "3.7.3"
  },
  "toc": {
   "base_numbering": 1,
   "nav_menu": {
    "height": "234.986px",
    "width": "320.568px"
   },
   "number_sections": true,
   "sideBar": true,
   "skip_h1_title": false,
   "title_cell": "Table of Contents",
   "title_sidebar": "Contents",
   "toc_cell": false,
   "toc_position": {},
   "toc_section_display": true,
   "toc_window_display": false
  },
  "varInspector": {
   "cols": {
    "lenName": 16,
    "lenType": 16,
    "lenVar": 40
   },
   "kernels_config": {
    "python": {
     "delete_cmd_postfix": "",
     "delete_cmd_prefix": "del ",
     "library": "var_list.py",
     "varRefreshCmd": "print(var_dic_list())"
    },
    "r": {
     "delete_cmd_postfix": ") ",
     "delete_cmd_prefix": "rm(",
     "library": "var_list.r",
     "varRefreshCmd": "cat(var_dic_list()) "
    }
   },
   "types_to_exclude": [
    "module",
    "function",
    "builtin_function_or_method",
    "instance",
    "_Feature"
   ],
   "window_display": false
  }
 },
 "nbformat": 4,
 "nbformat_minor": 2
}
